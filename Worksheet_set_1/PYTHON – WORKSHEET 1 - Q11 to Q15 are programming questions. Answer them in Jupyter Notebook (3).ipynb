{
 "cells": [
  {
   "cell_type": "code",
   "execution_count": 1,
   "id": "5dc31adb",
   "metadata": {},
   "outputs": [
    {
     "name": "stdout",
     "output_type": "stream",
     "text": [
      "Number = 5\n",
      "Factorial of above number = 120\n"
     ]
    }
   ],
   "source": [
    "# Q11 to Q15 are programming questions. Answer them in Jupyter Notebook.\n",
    "\n",
    "# 11. Write a python program to find the factorial of a number\n",
    "\n",
    "F = int (input ('Number = '))\n",
    "Factorial = 1\n",
    "while F > 0 :\n",
    "    Factorial = Factorial * F\n",
    "    F = F-1\n",
    "print  ('Factorial of above number =',Factorial)"
   ]
  },
  {
   "cell_type": "code",
   "execution_count": 2,
   "id": "f6ecc3ab",
   "metadata": {},
   "outputs": [
    {
     "name": "stdout",
     "output_type": "stream",
     "text": [
      "Number = 5\n",
      "5 is a prime number\n"
     ]
    }
   ],
   "source": [
    "# 12. Write a python program to find whether a number is prime or composite.\n",
    "\n",
    "Number = int(input ('Number = '))\n",
    "count = 0\n",
    "i = 1\n",
    "while i <= Number:\n",
    "    if Number%i == 0:\n",
    "        count = count + 1\n",
    "    i = i + 1\n",
    "\n",
    "if count == 2:\n",
    "    print (Number,'is a prime number')\n",
    "elif count>2:\n",
    "    print (Number,'is a composite number')\n",
    "else:\n",
    "    print (Number, 'is neither prime nor composite')"
   ]
  },
  {
   "cell_type": "code",
   "execution_count": 3,
   "id": "949c5c92",
   "metadata": {},
   "outputs": [
    {
     "name": "stdout",
     "output_type": "stream",
     "text": [
      "Enter String = 5\n",
      "5 is Palindrome String\n"
     ]
    }
   ],
   "source": [
    "# 13. Write a python program to check whether a given string is palindrome or not.\n",
    "\n",
    "\n",
    "a = input ('Enter String = ')\n",
    "b = a [-1::-1]\n",
    "if (a == b):\n",
    "    print (a, 'is Palindrome String')\n",
    "else:\n",
    "    print (a, 'is not a Palindrome String')"
   ]
  },
  {
   "cell_type": "code",
   "execution_count": 4,
   "id": "a6b70cd5",
   "metadata": {},
   "outputs": [
    {
     "name": "stdout",
     "output_type": "stream",
     "text": [
      "Hypotenuse = 5.0\n",
      "Adjacent = 4.0\n",
      "Opposite = 3.0\n",
      "You know the answer!\n"
     ]
    }
   ],
   "source": [
    "#  14. Write a Python program to get the third side of right-angled triangle from two given sides\n",
    "\n",
    "def pythagoras(opposite_side,adjacent_side,hypotenuse):\n",
    "        if opposite_side == str(\"x\"):\n",
    "            return (\"Opposite = \" + str(((hypotenuse**2) - (adjacent_side**2))**0.5))\n",
    "        elif adjacent_side == str(\"x\"):\n",
    "            return (\"Adjacent = \" + str(((hypotenuse**2) - (opposite_side**2))**0.5))\n",
    "        elif hypotenuse == str(\"x\"):\n",
    "            return (\"Hypotenuse = \" + str(((opposite_side**2) + (adjacent_side**2))**0.5))\n",
    "        else:\n",
    "            return \"You know the answer!\"\n",
    "    \n",
    "print(pythagoras(3,4,'x'))\n",
    "print(pythagoras(3,'x',5))\n",
    "print(pythagoras('x',4,5))\n",
    "print (pythagoras(3,4,5))"
   ]
  },
  {
   "cell_type": "code",
   "execution_count": 5,
   "id": "3e6383d8",
   "metadata": {},
   "outputs": [
    {
     "name": "stdout",
     "output_type": "stream",
     "text": [
      "[1, 2, 3, 3, 4, 4, 2, 4, 2, 3, 1, 4, 1, 4, 2, 4, 1, 2, 2, 4, 1, 4, 1]\n",
      "{'H': 1, 'e': 2, 'l': 3, 'o': 4, ' ': 4, 'w': 2, 'r': 2, 'd': 1, 'h': 1, 'a': 1, 'y': 1, 'u': 1}\n"
     ]
    }
   ],
   "source": [
    "# 15. Write a python program to print the frequency of each of the characters present in a given string\n",
    "\n",
    "str = ('Hello world how are you')\n",
    "l = list (str)\n",
    "\n",
    "frequency = [l.count (ele) for ele in l]\n",
    "print (frequency)\n",
    "d = dict (zip (l, frequency))\n",
    "print (d)"
   ]
  },
  {
   "cell_type": "code",
   "execution_count": null,
   "id": "94172637",
   "metadata": {},
   "outputs": [],
   "source": []
  }
 ],
 "metadata": {
  "kernelspec": {
   "display_name": "Python 3 (ipykernel)",
   "language": "python",
   "name": "python3"
  },
  "language_info": {
   "codemirror_mode": {
    "name": "ipython",
    "version": 3
   },
   "file_extension": ".py",
   "mimetype": "text/x-python",
   "name": "python",
   "nbconvert_exporter": "python",
   "pygments_lexer": "ipython3",
   "version": "3.9.7"
  }
 },
 "nbformat": 4,
 "nbformat_minor": 5
}
